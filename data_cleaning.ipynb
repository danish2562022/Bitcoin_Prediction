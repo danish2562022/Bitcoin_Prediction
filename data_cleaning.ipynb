{
 "cells": [
  {
   "cell_type": "code",
   "execution_count": 1,
   "id": "7541418a",
   "metadata": {},
   "outputs": [],
   "source": [
    "import pandas as pd\n",
    "import numpy as np"
   ]
  },
  {
   "cell_type": "code",
   "execution_count": 2,
   "id": "f8e2cf12",
   "metadata": {},
   "outputs": [],
   "source": [
    "data=pd.read_csv(\"../merged_features.csv\")"
   ]
  },
  {
   "cell_type": "code",
   "execution_count": 3,
   "id": "0bcfcf73",
   "metadata": {},
   "outputs": [
    {
     "data": {
      "text/html": [
       "<div>\n",
       "<style scoped>\n",
       "    .dataframe tbody tr th:only-of-type {\n",
       "        vertical-align: middle;\n",
       "    }\n",
       "\n",
       "    .dataframe tbody tr th {\n",
       "        vertical-align: top;\n",
       "    }\n",
       "\n",
       "    .dataframe thead th {\n",
       "        text-align: right;\n",
       "    }\n",
       "</style>\n",
       "<table border=\"1\" class=\"dataframe\">\n",
       "  <thead>\n",
       "    <tr style=\"text-align: right;\">\n",
       "      <th></th>\n",
       "      <th>Date</th>\n",
       "      <th>transactions-btc</th>\n",
       "      <th>size-btc</th>\n",
       "      <th>sentbyaddress-btc</th>\n",
       "      <th>difficulty-btc</th>\n",
       "      <th>hashrate-btc</th>\n",
       "      <th>mining_profitability-btc</th>\n",
       "      <th>sentinusd-btcUSD</th>\n",
       "      <th>transactionfees-btcUSD</th>\n",
       "      <th>median_transaction_fee-btcUSD</th>\n",
       "      <th>...</th>\n",
       "      <th>tweets-btc-rsi30</th>\n",
       "      <th>tweets-btc-rsi90</th>\n",
       "      <th>tweets-btc-roc3</th>\n",
       "      <th>tweets-btc-roc7</th>\n",
       "      <th>tweets-btc-roc14</th>\n",
       "      <th>tweets-btc-roc30</th>\n",
       "      <th>tweets-btc-roc90</th>\n",
       "      <th>SANDP_500_price</th>\n",
       "      <th>NASDAQ_100_price</th>\n",
       "      <th>crude_oil_price</th>\n",
       "    </tr>\n",
       "  </thead>\n",
       "  <tbody>\n",
       "    <tr>\n",
       "      <th>0</th>\n",
       "      <td>2018-10-25</td>\n",
       "      <td>254462.0</td>\n",
       "      <td>785480.0</td>\n",
       "      <td>371084.0</td>\n",
       "      <td>7.182852e+12</td>\n",
       "      <td>4.403033e+19</td>\n",
       "      <td>0.255</td>\n",
       "      <td>4.874241e+09</td>\n",
       "      <td>0.448</td>\n",
       "      <td>0.1350</td>\n",
       "      <td>...</td>\n",
       "      <td>46.246</td>\n",
       "      <td>48.073</td>\n",
       "      <td>-15.205</td>\n",
       "      <td>-14.797</td>\n",
       "      <td>-20.401</td>\n",
       "      <td>-23.920</td>\n",
       "      <td>-31.253</td>\n",
       "      <td>2705.57</td>\n",
       "      <td>7016.39</td>\n",
       "      <td>66.81</td>\n",
       "    </tr>\n",
       "    <tr>\n",
       "      <th>1</th>\n",
       "      <td>2018-10-26</td>\n",
       "      <td>252859.0</td>\n",
       "      <td>778272.0</td>\n",
       "      <td>390481.0</td>\n",
       "      <td>7.182852e+12</td>\n",
       "      <td>5.203881e+19</td>\n",
       "      <td>0.225</td>\n",
       "      <td>3.973633e+09</td>\n",
       "      <td>0.460</td>\n",
       "      <td>0.1300</td>\n",
       "      <td>...</td>\n",
       "      <td>46.120</td>\n",
       "      <td>48.039</td>\n",
       "      <td>-16.966</td>\n",
       "      <td>-9.268</td>\n",
       "      <td>-11.902</td>\n",
       "      <td>-22.301</td>\n",
       "      <td>-19.740</td>\n",
       "      <td>2658.69</td>\n",
       "      <td>6852.40</td>\n",
       "      <td>67.50</td>\n",
       "    </tr>\n",
       "    <tr>\n",
       "      <th>2</th>\n",
       "      <td>2018-10-27</td>\n",
       "      <td>233613.0</td>\n",
       "      <td>693978.0</td>\n",
       "      <td>337030.0</td>\n",
       "      <td>7.182852e+12</td>\n",
       "      <td>5.238739e+19</td>\n",
       "      <td>0.212</td>\n",
       "      <td>2.554463e+09</td>\n",
       "      <td>0.364</td>\n",
       "      <td>0.1010</td>\n",
       "      <td>...</td>\n",
       "      <td>43.176</td>\n",
       "      <td>47.221</td>\n",
       "      <td>-31.159</td>\n",
       "      <td>-11.089</td>\n",
       "      <td>-25.681</td>\n",
       "      <td>-35.322</td>\n",
       "      <td>-35.887</td>\n",
       "      <td>NaN</td>\n",
       "      <td>NaN</td>\n",
       "      <td>NaN</td>\n",
       "    </tr>\n",
       "    <tr>\n",
       "      <th>3</th>\n",
       "      <td>2018-10-28</td>\n",
       "      <td>219720.0</td>\n",
       "      <td>658009.0</td>\n",
       "      <td>319437.0</td>\n",
       "      <td>7.182852e+12</td>\n",
       "      <td>4.679104e+19</td>\n",
       "      <td>0.245</td>\n",
       "      <td>2.147556e+09</td>\n",
       "      <td>0.487</td>\n",
       "      <td>0.0924</td>\n",
       "      <td>...</td>\n",
       "      <td>43.238</td>\n",
       "      <td>47.236</td>\n",
       "      <td>-19.390</td>\n",
       "      <td>-7.117</td>\n",
       "      <td>-26.426</td>\n",
       "      <td>-29.912</td>\n",
       "      <td>-45.289</td>\n",
       "      <td>NaN</td>\n",
       "      <td>NaN</td>\n",
       "      <td>67.59</td>\n",
       "    </tr>\n",
       "    <tr>\n",
       "      <th>4</th>\n",
       "      <td>2018-10-29</td>\n",
       "      <td>269608.0</td>\n",
       "      <td>755671.0</td>\n",
       "      <td>387488.0</td>\n",
       "      <td>7.182852e+12</td>\n",
       "      <td>5.359934e+19</td>\n",
       "      <td>0.220</td>\n",
       "      <td>3.831067e+09</td>\n",
       "      <td>0.466</td>\n",
       "      <td>0.1400</td>\n",
       "      <td>...</td>\n",
       "      <td>47.531</td>\n",
       "      <td>48.315</td>\n",
       "      <td>4.111</td>\n",
       "      <td>-12.406</td>\n",
       "      <td>-24.760</td>\n",
       "      <td>-7.613</td>\n",
       "      <td>-31.880</td>\n",
       "      <td>2641.25</td>\n",
       "      <td>6713.90</td>\n",
       "      <td>66.61</td>\n",
       "    </tr>\n",
       "  </tbody>\n",
       "</table>\n",
       "<p>5 rows × 786 columns</p>\n",
       "</div>"
      ],
      "text/plain": [
       "         Date  transactions-btc  size-btc  sentbyaddress-btc  difficulty-btc  \\\n",
       "0  2018-10-25          254462.0  785480.0           371084.0    7.182852e+12   \n",
       "1  2018-10-26          252859.0  778272.0           390481.0    7.182852e+12   \n",
       "2  2018-10-27          233613.0  693978.0           337030.0    7.182852e+12   \n",
       "3  2018-10-28          219720.0  658009.0           319437.0    7.182852e+12   \n",
       "4  2018-10-29          269608.0  755671.0           387488.0    7.182852e+12   \n",
       "\n",
       "   hashrate-btc  mining_profitability-btc  sentinusd-btcUSD  \\\n",
       "0  4.403033e+19                     0.255      4.874241e+09   \n",
       "1  5.203881e+19                     0.225      3.973633e+09   \n",
       "2  5.238739e+19                     0.212      2.554463e+09   \n",
       "3  4.679104e+19                     0.245      2.147556e+09   \n",
       "4  5.359934e+19                     0.220      3.831067e+09   \n",
       "\n",
       "   transactionfees-btcUSD  median_transaction_fee-btcUSD  ...  \\\n",
       "0                   0.448                         0.1350  ...   \n",
       "1                   0.460                         0.1300  ...   \n",
       "2                   0.364                         0.1010  ...   \n",
       "3                   0.487                         0.0924  ...   \n",
       "4                   0.466                         0.1400  ...   \n",
       "\n",
       "   tweets-btc-rsi30  tweets-btc-rsi90  tweets-btc-roc3  tweets-btc-roc7  \\\n",
       "0            46.246            48.073          -15.205          -14.797   \n",
       "1            46.120            48.039          -16.966           -9.268   \n",
       "2            43.176            47.221          -31.159          -11.089   \n",
       "3            43.238            47.236          -19.390           -7.117   \n",
       "4            47.531            48.315            4.111          -12.406   \n",
       "\n",
       "   tweets-btc-roc14  tweets-btc-roc30  tweets-btc-roc90  SANDP_500_price  \\\n",
       "0           -20.401           -23.920           -31.253          2705.57   \n",
       "1           -11.902           -22.301           -19.740          2658.69   \n",
       "2           -25.681           -35.322           -35.887              NaN   \n",
       "3           -26.426           -29.912           -45.289              NaN   \n",
       "4           -24.760            -7.613           -31.880          2641.25   \n",
       "\n",
       "   NASDAQ_100_price  crude_oil_price  \n",
       "0           7016.39            66.81  \n",
       "1           6852.40            67.50  \n",
       "2               NaN              NaN  \n",
       "3               NaN            67.59  \n",
       "4           6713.90            66.61  \n",
       "\n",
       "[5 rows x 786 columns]"
      ]
     },
     "execution_count": 3,
     "metadata": {},
     "output_type": "execute_result"
    }
   ],
   "source": [
    "#dropping unnamed column\n",
    "data=data.drop(['Unnamed: 0'],axis=1)\n",
    "\n",
    "#removing ',' from column values and converting to float\n",
    "data['SANDP_500_price']=data['SANDP_500_price'].str.replace(',', '').astype(float) \n",
    "data['NASDAQ_100_price']=data['NASDAQ_100_price'].str.replace(',', '').astype(float)\n",
    "\n",
    "data.head()"
   ]
  },
  {
   "cell_type": "markdown",
   "id": "3c95331a",
   "metadata": {},
   "source": [
    "## Checking missing values in the dataframe"
   ]
  },
  {
   "cell_type": "code",
   "execution_count": 4,
   "id": "636970c2",
   "metadata": {},
   "outputs": [
    {
     "name": "stdout",
     "output_type": "stream",
     "text": [
      "['SANDP_500_price', 'NASDAQ_100_price', 'crude_oil_price']\n"
     ]
    }
   ],
   "source": [
    "print(data.columns[data.isna().any()].tolist())"
   ]
  },
  {
   "cell_type": "code",
   "execution_count": 5,
   "id": "e5c04a0f",
   "metadata": {},
   "outputs": [
    {
     "name": "stdout",
     "output_type": "stream",
     "text": [
      "Number of missing values in S&P_500_index_columns:  342\n",
      "Number of missing values in 'NASDAQ_100_price'columns:  342\n",
      "Number of missing values in 'crude_oil_price':  167\n"
     ]
    }
   ],
   "source": [
    "print(\"Number of missing values in S&P_500_index_columns: \", data['SANDP_500_price'].isnull().sum())\n",
    "print(\"Number of missing values in 'NASDAQ_100_price'columns: \", data['NASDAQ_100_price'].isnull().sum())\n",
    "print(\"Number of missing values in 'crude_oil_price': \", data['crude_oil_price'].isnull().sum())"
   ]
  },
  {
   "cell_type": "markdown",
   "id": "0b170762",
   "metadata": {},
   "source": [
    "## Replacing missing value of columns with the average of last 2 days values of respective columns"
   ]
  },
  {
   "cell_type": "code",
   "execution_count": 6,
   "id": "3de889df",
   "metadata": {},
   "outputs": [],
   "source": [
    "index_missing_rows_s_and_p=data[data['SANDP_500_price'].isnull()].index.tolist()\n",
    "index_missing_rows_nasdaq=data[data['NASDAQ_100_price'].isnull()].index.tolist()\n",
    "index_missing_rows_crude_oil_price=data[data['crude_oil_price'].isnull()].index.tolist()\n"
   ]
  },
  {
   "cell_type": "code",
   "execution_count": 7,
   "id": "946aebe2",
   "metadata": {},
   "outputs": [],
   "source": [
    "for i in index_missing_rows_s_and_p:\n",
    "    data.iloc[i,data.columns.get_loc('SANDP_500_price')]=(data.iloc[i-2,data.columns.get_loc('SANDP_500_price')]+data.iloc[i-1,data.columns.get_loc('SANDP_500_price')])/2\n",
    "\n",
    "\n",
    "for i in index_missing_rows_nasdaq:\n",
    "    data.iloc[i,data.columns.get_loc('NASDAQ_100_price')]=(data.iloc[i-2,data.columns.get_loc('NASDAQ_100_price')]+data.iloc[i-1,data.columns.get_loc('NASDAQ_100_price')])/2\n",
    "    \n",
    "for i in index_missing_rows_crude_oil_price:\n",
    "    data.iloc[i,data.columns.get_loc('crude_oil_price')]=(data.iloc[i-2,data.columns.get_loc('crude_oil_price')]+data.iloc[i-1,data.columns.get_loc('SANDP_500_price')])/2\n",
    "    "
   ]
  },
  {
   "cell_type": "code",
   "execution_count": 8,
   "id": "866f6500",
   "metadata": {},
   "outputs": [
    {
     "name": "stdout",
     "output_type": "stream",
     "text": [
      "Number of missing values in S&P_500_index_columns:  0\n",
      "Number of missing values in 'NASDAQ_100_price'columns:  0\n",
      "Number of missing values in 'crude_oil_price':  0\n"
     ]
    }
   ],
   "source": [
    "print(\"Number of missing values in S&P_500_index_columns: \", data['SANDP_500_price'].isnull().sum())\n",
    "print(\"Number of missing values in 'NASDAQ_100_price'columns: \", data['NASDAQ_100_price'].isnull().sum())\n",
    "print(\"Number of missing values in 'crude_oil_price': \", data['crude_oil_price'].isnull().sum())"
   ]
  },
  {
   "cell_type": "markdown",
   "id": "21462e2f",
   "metadata": {},
   "source": [
    "## ---------------------------------------------  DATA CLEANED  -------------------------------------------------------"
   ]
  },
  {
   "cell_type": "code",
   "execution_count": null,
   "id": "b90f6484",
   "metadata": {},
   "outputs": [],
   "source": []
  }
 ],
 "metadata": {
  "kernelspec": {
   "display_name": "Python 3 (ipykernel)",
   "language": "python",
   "name": "python3"
  },
  "language_info": {
   "codemirror_mode": {
    "name": "ipython",
    "version": 3
   },
   "file_extension": ".py",
   "mimetype": "text/x-python",
   "name": "python",
   "nbconvert_exporter": "python",
   "pygments_lexer": "ipython3",
   "version": "3.8.10"
  }
 },
 "nbformat": 4,
 "nbformat_minor": 5
}
